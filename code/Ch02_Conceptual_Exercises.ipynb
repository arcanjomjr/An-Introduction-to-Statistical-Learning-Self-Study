{
  "nbformat": 4,
  "nbformat_minor": 0,
  "metadata": {
    "colab": {
      "provenance": [],
      "authorship_tag": "ABX9TyOBW8CzVWjz9rbfKfqpXapg"
    },
    "kernelspec": {
      "name": "python3",
      "display_name": "Python 3"
    },
    "language_info": {
      "name": "python"
    }
  },
  "cells": [
    {
      "cell_type": "markdown",
      "source": [
        "**1. For each of parts (a) through (d), indicate whether we would generally\n",
        "expect the performance of a flexible statistical learning method to be\n",
        "better or worse than an inflexible method. Justify your answer.**\n",
        "\n",
        "**(a) The sample size n is extremely large, and the number of predictors p is small.**\n",
        "\n",
        "A flexible method. A large sample size can allow a flexible method to extract complex relations in the data.\n",
        "\n",
        "**(b) The number of predictors p is extremely large, and the number\n",
        "of observations n is small.**\n",
        "\n",
        "An inflexible method. A small dataset does not allow to fit a high number of parameters.\n",
        "\n",
        "**(c) The relationship between the predictors and response is highly\n",
        "non-linear.**\n",
        "\n",
        "A flexible method. Only a flexible method is able to model highly non-linear responses.\n",
        "\n",
        "**(d) The variance of the error terms, i.e. σ2 = Var(ϵ), is extremely\n",
        "high.**\n",
        "\n",
        "An inflexible method. A flexible method can overfit in a scenario of high variance."
      ],
      "metadata": {
        "id": "XiEF9qEnabcH"
      }
    },
    {
      "cell_type": "markdown",
      "source": [
        "**2. Explain whether each scenario is a classification or regression problem, and indicate whether we are most interested in inference or prediction. Finally, provide n and p.**\n",
        "\n",
        "**(a) We collect a set of data on the top 500 firms in the US. For each\n",
        "firm we record profit, number of employees, industry and the\n",
        "CEO salary. We are interested in understanding which factors\n",
        "affect CEO salary.**\n",
        "\n",
        "Regression, inference.\n",
        "\n",
        "**(b) We are considering launching a new product and wish to know whether it will be a success or a failure. We collect data on 20 similar products that were previously launched. For each product we have recorded whether it was a success or failure, price charged for the product, marketing budget, competition price, and ten other variables.**\n",
        "\n",
        "Classification, prediction.\n",
        "\n",
        "**(c) We are interested in predicting the % change in the USD/Euro exchange rate in relation to the weekly changes in the world stock markets. Hence we collect weekly data for all of 2012. For each week we record the % change in the USD/Euro, the % change in the US market, the % change in the British market,\n",
        "and the % change in the German market.**\n",
        "\n",
        "Regression, prediction."
      ],
      "metadata": {
        "id": "V4gZUp0Qb_Zk"
      }
    },
    {
      "cell_type": "markdown",
      "source": [
        "**3. We now revisit the bias-variance decomposition.**\n",
        "\n",
        "(a) Provide a sketch of typical (squared) bias, variance, training error, test error, and Bayes (or irreducible) error curves, on a single plot, as we go from less flexible statistical learning methods towards more flexible approaches. The x-axis should represent the amount of flexibility in the method, and the y-axis should represent the values for each curve. There should be five curves.\n",
        "Make sure to label each one.**\n",
        "\n",
        "Squared Bias has a L shape (decreasing function)\n",
        "Variance has a mirrored L shape (increasing function)\n",
        "Bayes error is an horizontal line (constant function)\n",
        "Train error has a L shape (decreasing function)\n",
        "Test error has an U shape (Squared Bias + Variance + Bayes)\n",
        "\n",
        "(b) Explain why each of the five curves has the shape displayed in\n",
        "part (a).\n",
        "\n",
        "The less a model is flexible, more is assumed about the target function, thus increasing bias and decreasing variance.\n",
        "\n",
        "Bayes error does not depend on the model, depends on not observed factor and measurement errors, thus is constant.\n",
        "\n",
        "The more flexible a model is, easier is for it to aproximate data points in the training set, thus is train error is decrasing.\n",
        "\n",
        "Test error is a sum of squared bias, variance and Bayes error, thus is the sum of a horizontal line, a L shaped funciton and a mirrored L function, thus having U shape.\n"
      ],
      "metadata": {
        "id": "i4YiaNx-clZk"
      }
    },
    {
      "cell_type": "markdown",
      "source": [
        "**4. You will now think of some real-life applications for statistical learn-\n",
        "ing.**\n",
        "\n",
        "**(a) Describe three real-life applications in which classification might be useful. Describe the response, as well as the predictors. Is the goal of each application inference or prediction? Explain your answer.**\n",
        "\n",
        "\n",
        "\n",
        "**(b) Describe three real-life applications in which regression might be useful. Describe the response, as well as the predictors. Is the goal of each application inference or prediction? Explain your answer.**\n",
        "\n",
        "\n",
        "**(c) Describe three real-life applications in which cluster analysis might be useful.**"
      ],
      "metadata": {
        "id": "SbfA0uTXh3vx"
      }
    },
    {
      "cell_type": "markdown",
      "source": [
        "**5. What are the advantages and disadvantages of a very flexible (versus a less flexible) approach for regression or classification? Under what circumstances might a more flexible approach be preferred to a less flexible approach? When might a less flexible approach be preferred?**\n",
        "\n",
        "Flexible models are preferred when there is a complex relation relation between input and output and when there is large amount of data available. Less flexible models are preferd when there is a simple relation between input and output or when data is limited."
      ],
      "metadata": {
        "id": "V5YwFgJai9Fo"
      }
    },
    {
      "cell_type": "markdown",
      "source": [
        "**6. Describe the differences between a parametric and a non-parametric statistical learning approach. What are the advantages of a parametric approach to regression or classification (as opposed to a non-parametric approach)? What are its disadvantages?**\n",
        "\n",
        "Parametric approaches assume that the target function belongs to a class of functions parametrized a by a set of numbers. The advantage is that this allows to regulate the flexibility of the model, adjusting the number of parameters.The downside is that none of the functions in that set could be a good aproximation for target function. Non parametric approaches. Non parametric models are much more flexible, thus need a greater amount of data and are more prone to overfitting."
      ],
      "metadata": {
        "id": "tG9D5vADjnnQ"
      }
    }
  ]
}