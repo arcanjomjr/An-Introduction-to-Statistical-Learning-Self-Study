{
  "nbformat": 4,
  "nbformat_minor": 0,
  "metadata": {
    "colab": {
      "provenance": [],
      "authorship_tag": "ABX9TyMoJ00uUo3S5Hg6gNgUHg6q"
    },
    "kernelspec": {
      "name": "python3",
      "display_name": "Python 3"
    },
    "language_info": {
      "name": "python"
    }
  },
  "cells": [
    {
      "cell_type": "markdown",
      "source": [
        "**Basic Commands**"
      ],
      "metadata": {
        "id": "RQ9HJz1DCpkk"
      }
    },
    {
      "cell_type": "code",
      "execution_count": 1,
      "metadata": {
        "colab": {
          "base_uri": "https://localhost:8080/"
        },
        "id": "p0VqwsHVBcJb",
        "outputId": "f3a1179a-3ce0-451a-95ea-43baf7a3b229"
      },
      "outputs": [
        {
          "output_type": "stream",
          "name": "stdout",
          "text": [
            "fit a model with 11 variables\n"
          ]
        }
      ],
      "source": [
        "print('fit a model with', 11, 'variables')"
      ]
    },
    {
      "cell_type": "code",
      "source": [],
      "metadata": {
        "id": "TAmJR9FKDB9s"
      },
      "execution_count": null,
      "outputs": []
    },
    {
      "cell_type": "code",
      "source": [
        "print?"
      ],
      "metadata": {
        "id": "cUlsrYPMCLjx"
      },
      "execution_count": 2,
      "outputs": []
    },
    {
      "cell_type": "code",
      "source": [
        "3+5"
      ],
      "metadata": {
        "colab": {
          "base_uri": "https://localhost:8080/"
        },
        "id": "qxtKj3ALCOTv",
        "outputId": "354e6a84-2c3d-48ea-89c0-2b699740a5da"
      },
      "execution_count": 3,
      "outputs": [
        {
          "output_type": "execute_result",
          "data": {
            "text/plain": [
              "8"
            ]
          },
          "metadata": {},
          "execution_count": 3
        }
      ]
    },
    {
      "cell_type": "code",
      "source": [
        "'hello' + ' ' + 'world'"
      ],
      "metadata": {
        "colab": {
          "base_uri": "https://localhost:8080/",
          "height": 35
        },
        "id": "zD46qI2NCPYg",
        "outputId": "c2119103-45a7-4a08-d596-f1d40e538e99"
      },
      "execution_count": 4,
      "outputs": [
        {
          "output_type": "execute_result",
          "data": {
            "text/plain": [
              "'hello world'"
            ],
            "application/vnd.google.colaboratory.intrinsic+json": {
              "type": "string"
            }
          },
          "metadata": {},
          "execution_count": 4
        }
      ]
    },
    {
      "cell_type": "code",
      "source": [
        "x = [3, 4, 5] #this is a list\n",
        "x"
      ],
      "metadata": {
        "colab": {
          "base_uri": "https://localhost:8080/"
        },
        "id": "CI8MqUYuCSTF",
        "outputId": "1b3d5c6a-60ec-4d2e-96a4-fcc7c2673cab"
      },
      "execution_count": 5,
      "outputs": [
        {
          "output_type": "execute_result",
          "data": {
            "text/plain": [
              "[3, 4, 5]"
            ]
          },
          "metadata": {},
          "execution_count": 5
        }
      ]
    },
    {
      "cell_type": "code",
      "source": [
        "y = [4, 9, 7]\n",
        "x+y #concatenation of lists"
      ],
      "metadata": {
        "colab": {
          "base_uri": "https://localhost:8080/"
        },
        "id": "NII2NhtpCZsu",
        "outputId": "06adc9ad-ac9f-4966-a496-45372b0659f9"
      },
      "execution_count": 6,
      "outputs": [
        {
          "output_type": "execute_result",
          "data": {
            "text/plain": [
              "[3, 4, 5, 4, 9, 7]"
            ]
          },
          "metadata": {},
          "execution_count": 6
        }
      ]
    },
    {
      "cell_type": "markdown",
      "source": [
        "**Numerical Python**"
      ],
      "metadata": {
        "id": "Bft_q89ICvfL"
      }
    },
    {
      "cell_type": "code",
      "source": [
        "import numpy as np"
      ],
      "metadata": {
        "id": "bqG60GvFCdTf"
      },
      "execution_count": 8,
      "outputs": []
    },
    {
      "cell_type": "code",
      "source": [
        "x = np.array([3,4,5])\n",
        "y = np.array([4,9,7])"
      ],
      "metadata": {
        "id": "z9GhkzA8C03i"
      },
      "execution_count": 9,
      "outputs": []
    },
    {
      "cell_type": "code",
      "source": [
        "x+y #not concatenation anymore"
      ],
      "metadata": {
        "colab": {
          "base_uri": "https://localhost:8080/"
        },
        "id": "-QrWOrPcC5Cn",
        "outputId": "eb6b0aba-4c25-4b49-c07b-402d898f2148"
      },
      "execution_count": 10,
      "outputs": [
        {
          "output_type": "execute_result",
          "data": {
            "text/plain": [
              "array([ 7, 13, 12])"
            ]
          },
          "metadata": {},
          "execution_count": 10
        }
      ]
    },
    {
      "cell_type": "markdown",
      "source": [
        "This happens because in numpy we have matrices instead of lists, this was a sum of matrices"
      ],
      "metadata": {
        "id": "TZrug16zDA4r"
      }
    },
    {
      "cell_type": "code",
      "source": [
        "x = np.array([[1, 2], [3, 4]])\n",
        "x"
      ],
      "metadata": {
        "colab": {
          "base_uri": "https://localhost:8080/"
        },
        "id": "pMYMSe_ZC7o5",
        "outputId": "97a06289-04a1-4e37-fea8-12f5d78adb82"
      },
      "execution_count": 12,
      "outputs": [
        {
          "output_type": "execute_result",
          "data": {
            "text/plain": [
              "array([[1, 2],\n",
              "       [3, 4]])"
            ]
          },
          "metadata": {},
          "execution_count": 12
        }
      ]
    },
    {
      "cell_type": "code",
      "source": [
        "x.ndim"
      ],
      "metadata": {
        "colab": {
          "base_uri": "https://localhost:8080/"
        },
        "id": "xyY0hmqKDuBm",
        "outputId": "7e2a4ac3-cb88-445e-d26d-07dd96a1bf9c"
      },
      "execution_count": 13,
      "outputs": [
        {
          "output_type": "execute_result",
          "data": {
            "text/plain": [
              "2"
            ]
          },
          "metadata": {},
          "execution_count": 13
        }
      ]
    },
    {
      "cell_type": "code",
      "source": [
        "x.dtype"
      ],
      "metadata": {
        "colab": {
          "base_uri": "https://localhost:8080/"
        },
        "id": "zWZdnwDcDyez",
        "outputId": "8b776c7b-0bde-4439-9039-fa27343ec2cd"
      },
      "execution_count": 14,
      "outputs": [
        {
          "output_type": "execute_result",
          "data": {
            "text/plain": [
              "dtype('int64')"
            ]
          },
          "metadata": {},
          "execution_count": 14
        }
      ]
    },
    {
      "cell_type": "code",
      "source": [
        "x = np.array([[1, 2], [3.0, 4]])\n",
        "x"
      ],
      "metadata": {
        "colab": {
          "base_uri": "https://localhost:8080/"
        },
        "id": "5I_ZOZoTD0ra",
        "outputId": "eb353a72-810d-43bc-d91f-cc70bb52ef12"
      },
      "execution_count": 15,
      "outputs": [
        {
          "output_type": "execute_result",
          "data": {
            "text/plain": [
              "array([[1., 2.],\n",
              "       [3., 4.]])"
            ]
          },
          "metadata": {},
          "execution_count": 15
        }
      ]
    },
    {
      "cell_type": "code",
      "source": [
        "x.dtype"
      ],
      "metadata": {
        "colab": {
          "base_uri": "https://localhost:8080/"
        },
        "id": "NcQKhePQD48y",
        "outputId": "f29fdf05-0460-42c8-c617-0dc964760a45"
      },
      "execution_count": 16,
      "outputs": [
        {
          "output_type": "execute_result",
          "data": {
            "text/plain": [
              "dtype('float64')"
            ]
          },
          "metadata": {},
          "execution_count": 16
        }
      ]
    },
    {
      "cell_type": "code",
      "source": [
        "np.array?"
      ],
      "metadata": {
        "id": "nytV0ZwwD6LV"
      },
      "execution_count": 17,
      "outputs": []
    },
    {
      "cell_type": "code",
      "source": [
        "np.array([[1,2], [3,4]], float).dtype"
      ],
      "metadata": {
        "colab": {
          "base_uri": "https://localhost:8080/"
        },
        "id": "leAxn2W7D-Q_",
        "outputId": "0b145ee2-46ac-4ccb-c1c5-6b5b7f9c3fe2"
      },
      "execution_count": 18,
      "outputs": [
        {
          "output_type": "execute_result",
          "data": {
            "text/plain": [
              "dtype('float64')"
            ]
          },
          "metadata": {},
          "execution_count": 18
        }
      ]
    },
    {
      "cell_type": "code",
      "source": [
        "x.shape"
      ],
      "metadata": {
        "colab": {
          "base_uri": "https://localhost:8080/"
        },
        "id": "gbPj92miEFfc",
        "outputId": "08d2dc43-3fd1-4a45-8c86-6b4609a3d5ef"
      },
      "execution_count": 19,
      "outputs": [
        {
          "output_type": "execute_result",
          "data": {
            "text/plain": [
              "(2, 2)"
            ]
          },
          "metadata": {},
          "execution_count": 19
        }
      ]
    },
    {
      "cell_type": "markdown",
      "source": [
        "A *method* is a function associated with an object."
      ],
      "metadata": {
        "id": "cfXt_6ztENg7"
      }
    },
    {
      "cell_type": "code",
      "source": [
        "x = np.array([1,2,3,4])\n",
        "np.sum(x)"
      ],
      "metadata": {
        "colab": {
          "base_uri": "https://localhost:8080/"
        },
        "id": "VlPKITsmEIs2",
        "outputId": "dbb40959-ffb4-47ab-eb21-109f5c03a18c"
      },
      "execution_count": 20,
      "outputs": [
        {
          "output_type": "execute_result",
          "data": {
            "text/plain": [
              "10"
            ]
          },
          "metadata": {},
          "execution_count": 20
        }
      ]
    },
    {
      "cell_type": "code",
      "source": [
        "x = np.array([1, 2, 3, 4, 5, 6])\n",
        "print('beginning x:\\n', x)\n",
        "x_reshape = x.reshape((2,3))\n",
        "print('reshape x:\\n', x_reshape)"
      ],
      "metadata": {
        "colab": {
          "base_uri": "https://localhost:8080/"
        },
        "id": "MMN0pTP_EWTt",
        "outputId": "82cdecfd-fd93-44a5-93f8-76b7df35c4d6"
      },
      "execution_count": 35,
      "outputs": [
        {
          "output_type": "stream",
          "name": "stdout",
          "text": [
            "beginning x:\n",
            " [1 2 3 4 5 6]\n",
            "reshape x:\n",
            " [[1 2 3]\n",
            " [4 5 6]]\n"
          ]
        }
      ]
    },
    {
      "cell_type": "markdown",
      "source": [
        "This output shows that numpy arrays are *row-oriented*, so, for example, (2,3) means 2 rows and 3 columns."
      ],
      "metadata": {
        "id": "4drzSSMtEqAT"
      }
    },
    {
      "cell_type": "markdown",
      "source": [
        "Observe that (2,3) is a *tuple*, not a list. The major difference between tuples and lists is that elements of tuples are immutable."
      ],
      "metadata": {
        "id": "gfnX2GVAFrSz"
      }
    },
    {
      "cell_type": "code",
      "source": [
        "x_reshape[0, 0] #first element"
      ],
      "metadata": {
        "colab": {
          "base_uri": "https://localhost:8080/"
        },
        "id": "nUdngageE8Da",
        "outputId": "88406adf-15a5-460e-8573-70db0ac926c6"
      },
      "execution_count": 36,
      "outputs": [
        {
          "output_type": "execute_result",
          "data": {
            "text/plain": [
              "1"
            ]
          },
          "metadata": {},
          "execution_count": 36
        }
      ]
    },
    {
      "cell_type": "code",
      "source": [
        "x_reshape[1,2] #second row, third column element"
      ],
      "metadata": {
        "colab": {
          "base_uri": "https://localhost:8080/"
        },
        "id": "VASmq-5tFEow",
        "outputId": "b86e4e9a-05d3-4b4a-fe9b-d23360224b37"
      },
      "execution_count": 37,
      "outputs": [
        {
          "output_type": "execute_result",
          "data": {
            "text/plain": [
              "6"
            ]
          },
          "metadata": {},
          "execution_count": 37
        }
      ]
    },
    {
      "cell_type": "code",
      "source": [
        "print('x before we modify x_reshape: \\n', x)\n",
        "print('x_reshape before we modify x_reshape:\\n', x_reshape)\n",
        "\n",
        "x_reshape[0,0] = 5\n",
        "\n",
        "print('x_reshape after we modify x_reshape:\\n', x_reshape)\n",
        "print('x after we modify x_reshape:\\n', x)"
      ],
      "metadata": {
        "colab": {
          "base_uri": "https://localhost:8080/"
        },
        "id": "R6Lxp5B_FJ19",
        "outputId": "3411143b-1600-4e73-ffda-669b8dce090e"
      },
      "execution_count": 38,
      "outputs": [
        {
          "output_type": "stream",
          "name": "stdout",
          "text": [
            "x before we modify x_reshape: \n",
            " [1 2 3 4 5 6]\n",
            "x_reshape before we modify x_reshape:\n",
            " [[1 2 3]\n",
            " [4 5 6]]\n",
            "x_reshape after we modify x_reshape:\n",
            " [[5 2 3]\n",
            " [4 5 6]]\n",
            "x after we modify x_reshape:\n",
            " [5 2 3 4 5 6]\n"
          ]
        }
      ]
    },
    {
      "cell_type": "markdown",
      "source": [
        "The reason that x changes, when we change x_reshape is because they occupy the same point in the memory. The line x_reshape = x.reshape((2,3)) does not creat a copy of x in a new shape, x_reshape points to the same spot in memory as x."
      ],
      "metadata": {
        "id": "mhS8FT07F5wC"
      }
    },
    {
      "cell_type": "code",
      "source": [
        "my_tuple = (3, 4, 5)\n",
        "my_tuple[0] = 2 #It is not possible to modify tuple, as pointed out before"
      ],
      "metadata": {
        "colab": {
          "base_uri": "https://localhost:8080/",
          "height": 159
        },
        "id": "qmsvDIqAGGUT",
        "outputId": "541574bb-ca35-4b44-d396-4a0c844cf365"
      },
      "execution_count": 31,
      "outputs": [
        {
          "output_type": "error",
          "ename": "TypeError",
          "evalue": "'tuple' object does not support item assignment",
          "traceback": [
            "\u001b[0;31m---------------------------------------------------------------------------\u001b[0m",
            "\u001b[0;31mTypeError\u001b[0m                                 Traceback (most recent call last)",
            "\u001b[0;32m<ipython-input-31-0cd885a05d86>\u001b[0m in \u001b[0;36m<cell line: 2>\u001b[0;34m()\u001b[0m\n\u001b[1;32m      1\u001b[0m \u001b[0mmy_tuple\u001b[0m \u001b[0;34m=\u001b[0m \u001b[0;34m(\u001b[0m\u001b[0;36m3\u001b[0m\u001b[0;34m,\u001b[0m \u001b[0;36m4\u001b[0m\u001b[0;34m,\u001b[0m \u001b[0;36m5\u001b[0m\u001b[0;34m)\u001b[0m\u001b[0;34m\u001b[0m\u001b[0;34m\u001b[0m\u001b[0m\n\u001b[0;32m----> 2\u001b[0;31m \u001b[0mmy_tuple\u001b[0m\u001b[0;34m[\u001b[0m\u001b[0;36m0\u001b[0m\u001b[0;34m]\u001b[0m \u001b[0;34m=\u001b[0m \u001b[0;36m2\u001b[0m \u001b[0;31m#It is not possible to modify tuple, as pointed out before\u001b[0m\u001b[0;34m\u001b[0m\u001b[0;34m\u001b[0m\u001b[0m\n\u001b[0m",
            "\u001b[0;31mTypeError\u001b[0m: 'tuple' object does not support item assignment"
          ]
        }
      ]
    },
    {
      "cell_type": "code",
      "source": [
        "x_reshape.shape, x_reshape.ndim, x_reshape.T #shape, number of dimensions, tranpose matrix"
      ],
      "metadata": {
        "colab": {
          "base_uri": "https://localhost:8080/"
        },
        "id": "flaxXQdiF5fS",
        "outputId": "5df51095-14da-461b-9ddf-ce48810364a9"
      },
      "execution_count": 39,
      "outputs": [
        {
          "output_type": "execute_result",
          "data": {
            "text/plain": [
              "((2, 3),\n",
              " 2,\n",
              " array([[5, 4],\n",
              "        [2, 5],\n",
              "        [3, 6]]))"
            ]
          },
          "metadata": {},
          "execution_count": 39
        }
      ]
    },
    {
      "cell_type": "code",
      "source": [
        "np.sqrt(x)"
      ],
      "metadata": {
        "colab": {
          "base_uri": "https://localhost:8080/"
        },
        "id": "F4h_6rRWHVZt",
        "outputId": "56d697e1-3610-4a7f-e763-f690dadf5293"
      },
      "execution_count": 40,
      "outputs": [
        {
          "output_type": "execute_result",
          "data": {
            "text/plain": [
              "array([2.23606798, 1.41421356, 1.73205081, 2.        , 2.23606798,\n",
              "       2.44948974])"
            ]
          },
          "metadata": {},
          "execution_count": 40
        }
      ]
    },
    {
      "cell_type": "code",
      "source": [
        "x**2"
      ],
      "metadata": {
        "colab": {
          "base_uri": "https://localhost:8080/"
        },
        "id": "4XLGi28GIKH-",
        "outputId": "fb4ad7ee-46cf-4083-ab84-501b30d98b54"
      },
      "execution_count": 41,
      "outputs": [
        {
          "output_type": "execute_result",
          "data": {
            "text/plain": [
              "array([25,  4,  9, 16, 25, 36])"
            ]
          },
          "metadata": {},
          "execution_count": 41
        }
      ]
    },
    {
      "cell_type": "code",
      "source": [
        "x**0.5"
      ],
      "metadata": {
        "colab": {
          "base_uri": "https://localhost:8080/"
        },
        "id": "wk5YcLL0IL2l",
        "outputId": "6e0aeb86-7da2-4dbe-a711-ddae23940d30"
      },
      "execution_count": 42,
      "outputs": [
        {
          "output_type": "execute_result",
          "data": {
            "text/plain": [
              "array([2.23606798, 1.41421356, 1.73205081, 2.        , 2.23606798,\n",
              "       2.44948974])"
            ]
          },
          "metadata": {},
          "execution_count": 42
        }
      ]
    },
    {
      "cell_type": "code",
      "source": [
        "np.random.normal()"
      ],
      "metadata": {
        "colab": {
          "base_uri": "https://localhost:8080/"
        },
        "id": "FvvNee1hINg7",
        "outputId": "a5e3dda7-8894-44f7-82e2-5154f24f6566"
      },
      "execution_count": 43,
      "outputs": [
        {
          "output_type": "execute_result",
          "data": {
            "text/plain": [
              "-0.5100997083869098"
            ]
          },
          "metadata": {},
          "execution_count": 43
        }
      ]
    },
    {
      "cell_type": "code",
      "source": [
        "np.random.normal?"
      ],
      "metadata": {
        "id": "wMD4bDMeIS3x"
      },
      "execution_count": 44,
      "outputs": []
    },
    {
      "cell_type": "code",
      "source": [
        "#loc, scale, size can be called keyword arguments or simply arguments"
      ],
      "metadata": {
        "id": "A1A7qDwKIZcR"
      },
      "execution_count": 46,
      "outputs": []
    },
    {
      "cell_type": "code",
      "source": [
        "x = np.random.normal(size=50)\n",
        "x"
      ],
      "metadata": {
        "colab": {
          "base_uri": "https://localhost:8080/"
        },
        "id": "9YUG1qe9IdZN",
        "outputId": "1e7fa797-678c-474b-bd90-58a507e7315b"
      },
      "execution_count": 47,
      "outputs": [
        {
          "output_type": "execute_result",
          "data": {
            "text/plain": [
              "array([-0.97032293,  0.12110588, -0.07961985,  1.36824091,  2.3027304 ,\n",
              "       -0.06703612,  0.84014567,  0.49475616, -2.12529506,  0.35356841,\n",
              "       -1.43601081, -1.20252667,  0.38272558, -0.34791859,  1.28882637,\n",
              "        0.16972544, -1.59148634, -0.8194687 ,  0.06058221,  0.88737492,\n",
              "        0.30683026,  0.13586288, -1.02939895, -0.08869486, -0.83639858,\n",
              "       -1.90221493, -2.14737471,  0.11731768, -1.37662352, -1.06842674,\n",
              "       -0.28949429, -2.03169951,  0.4344778 ,  0.32419016, -1.81170117,\n",
              "        0.3176389 , -1.63951713, -0.7124626 ,  0.44996503,  2.22628445,\n",
              "       -0.99688047,  0.62541588, -1.45234629, -1.18498888,  1.6497225 ,\n",
              "       -0.92642916, -0.08451574,  0.00437208, -0.30071471,  1.70737614])"
            ]
          },
          "metadata": {},
          "execution_count": 47
        }
      ]
    },
    {
      "cell_type": "code",
      "source": [
        "y = x + np.random.normal(loc=50, scale=1, size=50)"
      ],
      "metadata": {
        "id": "40fjic7iImq0"
      },
      "execution_count": 48,
      "outputs": []
    },
    {
      "cell_type": "code",
      "source": [
        "np.corrcoef(x,y)"
      ],
      "metadata": {
        "colab": {
          "base_uri": "https://localhost:8080/"
        },
        "id": "PgyLOXZdItxT",
        "outputId": "5ceae762-eeb7-4bc4-b449-ab54bbcf083e"
      },
      "execution_count": 49,
      "outputs": [
        {
          "output_type": "execute_result",
          "data": {
            "text/plain": [
              "array([[1.        , 0.75016749],\n",
              "       [0.75016749, 1.        ]])"
            ]
          },
          "metadata": {},
          "execution_count": 49
        }
      ]
    },
    {
      "cell_type": "code",
      "source": [
        "z = np.random.normal(size=50)"
      ],
      "metadata": {
        "id": "ypJe4h23IzdE"
      },
      "execution_count": 51,
      "outputs": []
    },
    {
      "cell_type": "code",
      "source": [
        "np.corrcoef((x,y,z))"
      ],
      "metadata": {
        "colab": {
          "base_uri": "https://localhost:8080/"
        },
        "id": "XzmlagIyI-Uv",
        "outputId": "9275ecd9-1819-499f-e925-f9ee30794dfa"
      },
      "execution_count": 54,
      "outputs": [
        {
          "output_type": "execute_result",
          "data": {
            "text/plain": [
              "array([[ 1.        ,  0.75016749, -0.17081416],\n",
              "       [ 0.75016749,  1.        , -0.01913965],\n",
              "       [-0.17081416, -0.01913965,  1.        ]])"
            ]
          },
          "metadata": {},
          "execution_count": 54
        }
      ]
    },
    {
      "cell_type": "code",
      "source": [
        "#np.corrocef of a tuple (a1, a2, ..., an) is nxn matrix where the entry ij is\n",
        "#the correlation between ai and aj, thats why the main diagonal is made of 1s."
      ],
      "metadata": {
        "id": "1gUt-4tkJAOb"
      },
      "execution_count": 55,
      "outputs": []
    },
    {
      "cell_type": "code",
      "source": [
        "print(np.random.normal(scale=5, size=2))\n",
        "print(np.random.normal(scale=5, size=2))"
      ],
      "metadata": {
        "colab": {
          "base_uri": "https://localhost:8080/"
        },
        "id": "NRbVW6bRJRym",
        "outputId": "60091b8f-5fce-4852-af8c-81fe6c9e8b06"
      },
      "execution_count": 56,
      "outputs": [
        {
          "output_type": "stream",
          "name": "stdout",
          "text": [
            "[ 8.9953104  -3.84306428]\n",
            "[-0.2209359  -3.23410924]\n"
          ]
        }
      ]
    },
    {
      "cell_type": "code",
      "source": [
        "rng = np.random.default_rng(1303)\n",
        "print(rng.normal(scale=5, size=2))\n",
        "\n",
        "rng2 = np.random.default_rng(1303)\n",
        "print(rng2.normal(scale=5, size=2))\n",
        "\n",
        "#the second time we use it, it changes\n",
        "print(rng2.normal(scale=5, size=2))"
      ],
      "metadata": {
        "colab": {
          "base_uri": "https://localhost:8080/"
        },
        "id": "p-wszBrsJnfJ",
        "outputId": "c65c6642-c1f1-482a-a2ca-1fed9d15dde1"
      },
      "execution_count": 58,
      "outputs": [
        {
          "output_type": "stream",
          "name": "stdout",
          "text": [
            "[ 4.09482632 -1.07485605]\n",
            "[ 4.09482632 -1.07485605]\n",
            "[-10.15364596   1.13406146]\n"
          ]
        }
      ]
    },
    {
      "cell_type": "code",
      "source": [
        "rng = np.random.default_rng(3)\n",
        "y = rng.standard_normal(10)\n",
        "np.mean(y), y.mean()"
      ],
      "metadata": {
        "colab": {
          "base_uri": "https://localhost:8080/"
        },
        "id": "LTC2h0hxKAeK",
        "outputId": "9c070267-cd4d-40d1-b500-f6262e0aa820"
      },
      "execution_count": 60,
      "outputs": [
        {
          "output_type": "execute_result",
          "data": {
            "text/plain": [
              "(-0.1126795190952861, -0.1126795190952861)"
            ]
          },
          "metadata": {},
          "execution_count": 60
        }
      ]
    },
    {
      "cell_type": "code",
      "source": [
        "np.var(y), y.var(), np.mean((y-y.mean())**2)"
      ],
      "metadata": {
        "colab": {
          "base_uri": "https://localhost:8080/"
        },
        "id": "U8oO9gjCKU_K",
        "outputId": "7b1c5596-4a01-4e20-c8ed-73bea54df6cd"
      },
      "execution_count": 62,
      "outputs": [
        {
          "output_type": "execute_result",
          "data": {
            "text/plain": [
              "(2.7243406406465125, 2.7243406406465125, 2.7243406406465125)"
            ]
          },
          "metadata": {},
          "execution_count": 62
        }
      ]
    },
    {
      "cell_type": "code",
      "source": [
        "X = rng.standard_normal((10,3))\n",
        "X"
      ],
      "metadata": {
        "colab": {
          "base_uri": "https://localhost:8080/"
        },
        "id": "m_FBjfoHKgEm",
        "outputId": "34b9d406-1b82-4047-d324-847cd8162610"
      },
      "execution_count": 63,
      "outputs": [
        {
          "output_type": "execute_result",
          "data": {
            "text/plain": [
              "array([[ 0.22578661, -0.35263079, -0.28128742],\n",
              "       [-0.66804635, -1.05515055, -0.39080098],\n",
              "       [ 0.48194539, -0.23855361,  0.9577587 ],\n",
              "       [-0.19980213,  0.02425957,  1.54582085],\n",
              "       [ 0.54510552, -0.50522874, -0.18283897],\n",
              "       [ 0.54052513,  1.93508803, -0.26962033],\n",
              "       [-0.24355868,  1.0023136 , -0.88645994],\n",
              "       [-0.29172023,  0.88253897,  0.58035002],\n",
              "       [ 0.0915167 ,  0.67010435, -2.82816231],\n",
              "       [ 1.02130682, -0.95964476, -1.66861984]])"
            ]
          },
          "metadata": {},
          "execution_count": 63
        }
      ]
    },
    {
      "cell_type": "code",
      "source": [
        "X.mean(axis=0)"
      ],
      "metadata": {
        "colab": {
          "base_uri": "https://localhost:8080/"
        },
        "id": "gAPhdWVhKvbG",
        "outputId": "20bfde6c-53fa-4c6f-e819-0f72caddb563"
      },
      "execution_count": 64,
      "outputs": [
        {
          "output_type": "execute_result",
          "data": {
            "text/plain": [
              "array([ 0.15030588,  0.14030961, -0.34238602])"
            ]
          },
          "metadata": {},
          "execution_count": 64
        }
      ]
    },
    {
      "cell_type": "code",
      "source": [
        "X.mean(axis=0).shape"
      ],
      "metadata": {
        "colab": {
          "base_uri": "https://localhost:8080/"
        },
        "id": "v3SeXUfqK3BL",
        "outputId": "8b1b889f-450d-4303-ae71-a2b6d3ac228e"
      },
      "execution_count": 66,
      "outputs": [
        {
          "output_type": "execute_result",
          "data": {
            "text/plain": [
              "(3,)"
            ]
          },
          "metadata": {},
          "execution_count": 66
        }
      ]
    },
    {
      "cell_type": "code",
      "source": [
        "X.mean(axis=1)"
      ],
      "metadata": {
        "colab": {
          "base_uri": "https://localhost:8080/"
        },
        "id": "sVho6EaFKzBN",
        "outputId": "9081ece3-4956-47d9-ec37-38bb7eabc925"
      },
      "execution_count": 65,
      "outputs": [
        {
          "output_type": "execute_result",
          "data": {
            "text/plain": [
              "array([-0.13604387, -0.70466596,  0.40038349,  0.45675943, -0.04765406,\n",
              "        0.73533095, -0.04256834,  0.39038958, -0.68884708, -0.53565259])"
            ]
          },
          "metadata": {},
          "execution_count": 65
        }
      ]
    },
    {
      "cell_type": "code",
      "source": [
        "X.mean(axis=1).shape"
      ],
      "metadata": {
        "colab": {
          "base_uri": "https://localhost:8080/"
        },
        "id": "sAF8OD6YK0mU",
        "outputId": "760191e5-d78c-4dbf-d833-4dc17f168e60"
      },
      "execution_count": 67,
      "outputs": [
        {
          "output_type": "execute_result",
          "data": {
            "text/plain": [
              "(10,)"
            ]
          },
          "metadata": {},
          "execution_count": 67
        }
      ]
    },
    {
      "cell_type": "code",
      "source": [],
      "metadata": {
        "id": "gQGG0gp4K4xO"
      },
      "execution_count": null,
      "outputs": []
    }
  ]
}
